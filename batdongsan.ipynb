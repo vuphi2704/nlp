{
 "cells": [
  {
   "cell_type": "code",
   "execution_count": 10,
   "metadata": {},
   "outputs": [],
   "source": [
    "import requests\n",
    "from bs4 import BeautifulSoup\n",
    "import csv"
   ]
  },
  {
   "cell_type": "code",
   "execution_count": 11,
   "metadata": {},
   "outputs": [],
   "source": [
    "def crawler_in(url):\n",
    "    data_temp = []\n",
    "    headers = {'User-Agent': 'Mozilla/5.0 (Windows NT 10.0; Win64; x64) AppleWebKit/537.36 (KHTML, like Gecko) Chrome/80.0.3987.163 Safari/537.36'}\n",
    "    page = requests.get(url , headers = headers).text\n",
    "    soup = BeautifulSoup(page , 'html.parser')\n",
    "    title  = soup.find('div', {'class':'pm-title'}).text\n",
    "    data_temp.append(title)\n",
    "    location = soup.find('span',{'class':'diadiem-title mar-right-15'}).text\n",
    "    data_temp.append(location)\n",
    "    price_raw =  soup.find('span',{'style':'display: inline-block;'}).find_all('strong')[0].text\n",
    "    data_temp.append(price_raw)\n",
    "    #price_raw.replace(u'\\xa0', \"\")\n",
    "    #if price_raw.split(' ')[1] is 'tỷ':\n",
    "    #    price = int(price_raw.split(' ')[0])\n",
    "    #if price_raw.split(' ')[1] is 'triệu':\n",
    "    #    price = float(price_raw.split(' ')[0])/1000\n",
    "    #    print ('trieu')\n",
    "\n",
    "    area_raw = soup.find('span',{'style':'display: inline-block;'}).find_all('strong')[1].text\n",
    "    data_temp.append(area_raw)\n",
    "    description  = soup.find('div',{'class':'pm-desc'}).text\n",
    "    data_temp.append(description)\n",
    "    character = {}\n",
    "    character_raw  = soup.find('div',{'class':'table-detail'}).find_all('div',{'class':'row'})\n",
    "    for row in character_raw:\n",
    "        character[row.find('div',{'class':'left'}).text] = row.find('div',{'class':'right'}).text\n",
    "    data_temp.append(character)\n",
    "    return data_temp\n"
   ]
  },
  {
   "cell_type": "code",
   "execution_count": 20,
   "metadata": {},
   "outputs": [],
   "source": [
    "def crawler_out(urls):\n",
    "    for url in  urls:\n",
    "        print (url)\n",
    "        headers = {'User-Agent': 'Mozilla/5.0 (Windows NT 10.0; Win64; x64) AppleWebKit/537.36 (KHTML, like Gecko) Chrome/80.0.3987.163 Safari/537.36'}\n",
    "        page  = requests.get(url, headers  =headers).text\n",
    "        soup = BeautifulSoup(page , 'html.parser')\n",
    "        items = soup.find('div',{'class':'product-list product-list-page product-list-new'}).find_all('div',{'class':'vip0 search-productItem'})\n",
    "        for item in items:\n",
    "            url  = \"https://batdongsan.com.vn\" + item.find('a' , href = True)['href']\n",
    "            data_temp  = crawler_in(url)\n",
    "\n",
    "            f = open('batdongsan.csv','a')\n",
    "            writer  = csv.writer(f)\n",
    "            writer.writerow(data_temp)\n"
   ]
  },
  {
   "cell_type": "code",
   "execution_count": 21,
   "metadata": {},
   "outputs": [
    {
     "name": "stdout",
     "output_type": "stream",
     "text": [
      "https://batdongsan.com.vn/nha-dat-ban\n",
      "https://batdongsan.com.vn/nha-dat-ban/p2\n",
      "https://batdongsan.com.vn/nha-dat-ban/p3\n"
     ]
    }
   ],
   "source": [
    "urls  = [\"https://batdongsan.com.vn/nha-dat-ban\"]\n",
    "for x in range(2,4):\n",
    "    urls.append(\"https://batdongsan.com.vn/nha-dat-ban/p{}\".format(str(x)))\n",
    "crawler_out(urls)"
   ]
  },
  {
   "cell_type": "code",
   "execution_count": null,
   "metadata": {},
   "outputs": [],
   "source": []
  },
  {
   "cell_type": "code",
   "execution_count": null,
   "metadata": {},
   "outputs": [],
   "source": []
  }
 ],
 "metadata": {
  "kernelspec": {
   "display_name": "Python 3",
   "language": "python",
   "name": "python3"
  },
  "language_info": {
   "codemirror_mode": {
    "name": "ipython",
    "version": 3
   },
   "file_extension": ".py",
   "mimetype": "text/x-python",
   "name": "python",
   "nbconvert_exporter": "python",
   "pygments_lexer": "ipython3",
   "version": "3.6.9"
  }
 },
 "nbformat": 4,
 "nbformat_minor": 2
}
